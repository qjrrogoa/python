{
 "cells": [
  {
   "cell_type": "code",
   "execution_count": 6,
   "metadata": {},
   "outputs": [],
   "source": [
    "import pandas as pd"
   ]
  },
  {
   "cell_type": "code",
   "execution_count": 8,
   "metadata": {},
   "outputs": [
    {
     "name": "stdout",
     "output_type": "stream",
     "text": [
      "titanic 변수 type: <class 'pandas.core.frame.DataFrame'>\n"
     ]
    },
    {
     "data": {
      "text/html": [
       "<div>\n",
       "<style scoped>\n",
       "    .dataframe tbody tr th:only-of-type {\n",
       "        vertical-align: middle;\n",
       "    }\n",
       "\n",
       "    .dataframe tbody tr th {\n",
       "        vertical-align: top;\n",
       "    }\n",
       "\n",
       "    .dataframe thead th {\n",
       "        text-align: right;\n",
       "    }\n",
       "</style>\n",
       "<table border=\"1\" class=\"dataframe\">\n",
       "  <thead>\n",
       "    <tr style=\"text-align: right;\">\n",
       "      <th></th>\n",
       "      <th>PassengerId</th>\n",
       "      <th>Survived</th>\n",
       "      <th>Pclass</th>\n",
       "      <th>Name</th>\n",
       "      <th>Sex</th>\n",
       "      <th>Age</th>\n",
       "      <th>SibSp</th>\n",
       "      <th>Parch</th>\n",
       "      <th>Ticket</th>\n",
       "      <th>Fare</th>\n",
       "      <th>Cabin</th>\n",
       "      <th>Embarked</th>\n",
       "    </tr>\n",
       "  </thead>\n",
       "  <tbody>\n",
       "    <tr>\n",
       "      <th>0</th>\n",
       "      <td>1</td>\n",
       "      <td>0</td>\n",
       "      <td>3</td>\n",
       "      <td>Braund, Mr. Owen Harris</td>\n",
       "      <td>male</td>\n",
       "      <td>22.0</td>\n",
       "      <td>1</td>\n",
       "      <td>0</td>\n",
       "      <td>A/5 21171</td>\n",
       "      <td>7.2500</td>\n",
       "      <td>NaN</td>\n",
       "      <td>S</td>\n",
       "    </tr>\n",
       "    <tr>\n",
       "      <th>1</th>\n",
       "      <td>2</td>\n",
       "      <td>1</td>\n",
       "      <td>1</td>\n",
       "      <td>Cumings, Mrs. John Bradley (Florence Briggs Th...</td>\n",
       "      <td>female</td>\n",
       "      <td>38.0</td>\n",
       "      <td>1</td>\n",
       "      <td>0</td>\n",
       "      <td>PC 17599</td>\n",
       "      <td>71.2833</td>\n",
       "      <td>C85</td>\n",
       "      <td>C</td>\n",
       "    </tr>\n",
       "    <tr>\n",
       "      <th>2</th>\n",
       "      <td>3</td>\n",
       "      <td>1</td>\n",
       "      <td>3</td>\n",
       "      <td>Heikkinen, Miss. Laina</td>\n",
       "      <td>female</td>\n",
       "      <td>26.0</td>\n",
       "      <td>0</td>\n",
       "      <td>0</td>\n",
       "      <td>STON/O2. 3101282</td>\n",
       "      <td>7.9250</td>\n",
       "      <td>NaN</td>\n",
       "      <td>S</td>\n",
       "    </tr>\n",
       "  </tbody>\n",
       "</table>\n",
       "</div>"
      ],
      "text/plain": [
       "   PassengerId  Survived  Pclass  \\\n",
       "0            1         0       3   \n",
       "1            2         1       1   \n",
       "2            3         1       3   \n",
       "\n",
       "                                                Name     Sex   Age  SibSp  \\\n",
       "0                            Braund, Mr. Owen Harris    male  22.0      1   \n",
       "1  Cumings, Mrs. John Bradley (Florence Briggs Th...  female  38.0      1   \n",
       "2                             Heikkinen, Miss. Laina  female  26.0      0   \n",
       "\n",
       "   Parch            Ticket     Fare Cabin Embarked  \n",
       "0      0         A/5 21171   7.2500   NaN        S  \n",
       "1      0          PC 17599  71.2833   C85        C  \n",
       "2      0  STON/O2. 3101282   7.9250   NaN        S  "
      ]
     },
     "execution_count": 8,
     "metadata": {},
     "output_type": "execute_result"
    }
   ],
   "source": [
    "titanic_df=pd.read_csv(\"titanic_train.csv\")\n",
    "print(\"titanic 변수 type:\",type(titanic_df))\n",
    "titanic_df.head(3)\n",
    "# print(\"DataFrame의 크기 : \",titanic_df.shape) # 891개의 로우와 12개의 컬럼\n",
    "# titanic_df.info() # None값 알수 있고 타입 알수 있다.\n",
    "# titanic_df.describe() # 평균, 표준편차, 최솟값, 최댓값, 사분위수"
   ]
  },
  {
   "cell_type": "code",
   "execution_count": 9,
   "metadata": {},
   "outputs": [
    {
     "name": "stdout",
     "output_type": "stream",
     "text": [
      "3    491\n",
      "1    216\n",
      "2    184\n",
      "Name: Pclass, dtype: int64\n",
      "<class 'pandas.core.series.Series'>\n"
     ]
    }
   ],
   "source": [
    "# df[Series] Series형태로 특정 칼럼 데이터 셋 반환 \n",
    "value_counts=titanic_df['Pclass'].value_counts() # 데이터 분포 확인할때 매우 유용 자주 쓰임\n",
    "print(value_counts)\n",
    "titanic_pclass=titanic_df['Pclass']\n",
    "print(type(titanic_pclass)) "
   ]
  },
  {
   "cell_type": "code",
   "execution_count": 10,
   "metadata": {},
   "outputs": [
    {
     "name": "stdout",
     "output_type": "stream",
     "text": [
      "array1 shape: [1 2 3]\n",
      "1차원 리스트로 만든 DataFrame:\n",
      "    col1\n",
      "0     1\n",
      "1     2\n",
      "2     3\n",
      "1차원 ndarray로 만든 DataFrame:\n",
      "    col1\n",
      "0     1\n",
      "1     2\n",
      "2     3\n"
     ]
    }
   ],
   "source": [
    "# 넘파이 ndarray, 리스트, 딕셔너리를 DataFrame으로 변환하기\n",
    "import numpy as np\n",
    "col_name1=[\"col1\"]\n",
    "list1=[1,2,3]\n",
    "array1=np.array(list1)\n",
    "print(\"array1 shape:\",array1)\n",
    "\n",
    "# 리스트를 이용해 DataFrame 생성\n",
    "df_list1=pd.DataFrame(list1,columns=col_name1)\n",
    "print(\"1차원 리스트로 만든 DataFrame:\\n\",df_list1)\n",
    "\n",
    "# 넘파이 ndarray를 이용해 DataFrame 생성\n",
    "df_array1=pd.DataFrame(array1,columns=col_name1)\n",
    "print(\"1차원 ndarray로 만든 DataFrame:\\n\",df_array1)"
   ]
  },
  {
   "cell_type": "code",
   "execution_count": 11,
   "metadata": {},
   "outputs": [
    {
     "name": "stdout",
     "output_type": "stream",
     "text": [
      "array2 shape (2, 3)\n",
      "\n",
      "2차원 리스트로 만든 DataFrame:\n",
      "    col1  col2  col3\n",
      "0     1     2     3\n",
      "1    11    12    13\n",
      "\n",
      "2차원 ndarray로 만든 DataFrame:\n",
      "    col1  col2  col3\n",
      "0     1     2     3\n",
      "1    11    12    13\n",
      "\n",
      "딕셔너리로 만든 DataFrame:\n",
      "    col1  col2  col3\n",
      "0     1     2     3\n",
      "1    11    12    13\n"
     ]
    }
   ],
   "source": [
    "import numpy as np\n",
    "# 2차원 형태의 데이터를 기반으로 DataFrame을 생성\n",
    "col_name2=[\"col1\",\"col2\",\"col3\"]\n",
    "\n",
    "# 2X3 형태의 리스트와 ndarray 생성한 뒤 이를 DataFrame으로 변환\n",
    "list2=[[1,2,3],\n",
    "      [11,12,13]]\n",
    "array2=np.array(list2)\n",
    "print(\"array2 shape\",array2.shape)\n",
    "\n",
    "# 리스트 -> DataFrame 생성\n",
    "df_list2=pd.DataFrame(list2,columns=col_name2)\n",
    "print(\"\\n2차원 리스트로 만든 DataFrame:\\n\",df_list2)\n",
    "\n",
    "# ndarray -> DataFrame 생성\n",
    "df_array2=pd.DataFrame(array2,columns=col_name2)\n",
    "print(\"\\n2차원 ndarray로 만든 DataFrame:\\n\",df_array2)\n",
    "\n",
    "# 딕셔너리로 만든 DataFrame\n",
    "dict={\"col1\":[1,11],\"col2\":[2,12],\"col3\":[3,13]} # 딕셔너리 만들 때 Key랑 Value값은 \"=\"이 아닌 \":\"으로 이루어짐\n",
    "df_dict=pd.DataFrame(dict) # 변수 지정할때 . 사용 금지!\n",
    "print(\"\\n딕셔너리로 만든 DataFrame:\\n\",df_dict)"
   ]
  },
  {
   "cell_type": "code",
   "execution_count": 12,
   "metadata": {},
   "outputs": [
    {
     "name": "stdout",
     "output_type": "stream",
     "text": [
      "df_dict.values 타입: <class 'numpy.ndarray'> \n",
      "df_dict.values shape: (2, 3)\n",
      "[[ 1  2  3]\n",
      " [11 12 13]]\n",
      "\n",
      "df_dict.values.tolist() 타입: <class 'list'>\n",
      "[[1, 2, 3], [11, 12, 13]]\n",
      "\n",
      "df_dict.to.dict() 타입: <class 'dict'>\n",
      "{'col1': [1, 11], 'col2': [2, 12], 'col3': [3, 13]}\n"
     ]
    }
   ],
   "source": [
    "# 많은 머신러닝 패키지가 기본 데이터 형으로 넘파이를 사용함. 그래서 빈번히 변환이 이루어짐!\n",
    "# 어떤 DataFrame을 써도 다 결과는 같다\n",
    "# DataFrame을 ndarray로 변환 \n",
    "# df.values\n",
    "array3=df_dict.values\n",
    "print(\"df_dict.values 타입:\",type(array3),\"\\ndf_dict.values shape:\",array3.shape)\n",
    "print(array3)\n",
    "\n",
    "# DataFrame을 리스트로 변환\n",
    "# df.values.tolist()\n",
    "list3=df_dict.values.tolist()\n",
    "print(\"\\ndf_dict.values.tolist() 타입:\",type(list3))\n",
    "print(list3)\n",
    "\n",
    "# DataFrame을 딕셔너리로 변환\n",
    "# df.to_dic(\"list\")\n",
    "dict3=df_dict.to_dict(\"list\")\n",
    "print(\"\\ndf_dict.to.dict() 타입:\",type(dict3))\n",
    "print(dict3)"
   ]
  },
  {
   "cell_type": "code",
   "execution_count": 13,
   "metadata": {},
   "outputs": [
    {
     "name": "stdout",
     "output_type": "stream",
     "text": [
      "inplace=True로 drop후 반환된 값 None\n",
      "### before axis 0 drop ###\n",
      "   PassengerId  Survived  Pclass  \\\n",
      "0            1         0       3   \n",
      "1            2         1       1   \n",
      "2            3         1       3   \n",
      "\n",
      "                                                Name     Sex   Age  SibSp  \\\n",
      "0                            Braund, Mr. Owen Harris    male  22.0      1   \n",
      "1  Cumings, Mrs. John Bradley (Florence Briggs Th...  female  38.0      1   \n",
      "2                             Heikkinen, Miss. Laina  female  26.0      0   \n",
      "\n",
      "   Parch            Ticket     Fare Cabin Embarked  \n",
      "0      0         A/5 21171   7.2500   NaN        S  \n",
      "1      0          PC 17599  71.2833   C85        C  \n",
      "2      0  STON/O2. 3101282   7.9250   NaN        S  \n",
      "### after axis 0 drop ###\n",
      "   PassengerId  Survived  Pclass  \\\n",
      "3            4         1       1   \n",
      "4            5         0       3   \n",
      "5            6         0       3   \n",
      "\n",
      "                                           Name     Sex   Age  SibSp  Parch  \\\n",
      "3  Futrelle, Mrs. Jacques Heath (Lily May Peel)  female  35.0      1      0   \n",
      "4                      Allen, Mr. William Henry    male  35.0      0      0   \n",
      "5                              Moran, Mr. James    male   NaN      0      0   \n",
      "\n",
      "   Ticket     Fare Cabin Embarked  \n",
      "3  113803  53.1000  C123        S  \n",
      "4  373450   8.0500   NaN        S  \n",
      "5  330877   8.4583   NaN        Q  \n"
     ]
    }
   ],
   "source": [
    "# 새로운 컬럼 데이터 생성\n",
    "titanic_df[\"Age_0\"]=0\n",
    "titanic_df[\"Age_by_10\"]=titanic_df[\"Age\"]*10\n",
    "titanic_df[\"Family_No\"]=titanic_df[\"SibSp\"]+titanic_df[\"Parch\"]+1  # Series 안에 큰 따옴표\n",
    "titanic_df.head(3)\n",
    "\n",
    "# 데이터 삭제\n",
    "# inplace=False defalut값이다. 변수로 반환될 때 원본 데이터는 제거되지 않음\n",
    "titanic_drop_df=titanic_df.drop(\"Age_0\",axis=1)\n",
    "titanic_drop_df.head(3)\n",
    "\n",
    "drop_result=titanic_df.drop([\"Age_0\",\"Age_by_10\",\"Family_No\"],axis=1,inplace=True)\n",
    "print(\"inplace=True로 drop후 반환된 값\",drop_result)\n",
    "# ⚠️ inplace=True 할때 객체변수를 쓰면 다 날라간다. ⚠️ (titanic_df=titanic_df_drop 하지 말란말이다!)\n",
    "titanic_df.head(3)\n",
    "\n",
    "# 로우 삭제\n",
    "print(\"### before axis 0 drop ###\")\n",
    "print(titanic_df.head(3))\n",
    "titanic_df.drop([0,1,2],axis=0,inplace=True)\n",
    "print(\"### after axis 0 drop ###\")\n",
    "print(titanic_df.head(3))"
   ]
  },
  {
   "cell_type": "code",
   "execution_count": null,
   "metadata": {},
   "outputs": [],
   "source": []
  }
 ],
 "metadata": {
  "kernelspec": {
   "display_name": "Python 3",
   "language": "python",
   "name": "python3"
  },
  "language_info": {
   "codemirror_mode": {
    "name": "ipython",
    "version": 3
   },
   "file_extension": ".py",
   "mimetype": "text/x-python",
   "name": "python",
   "nbconvert_exporter": "python",
   "pygments_lexer": "ipython3",
   "version": "3.8.5"
  }
 },
 "nbformat": 4,
 "nbformat_minor": 4
}
