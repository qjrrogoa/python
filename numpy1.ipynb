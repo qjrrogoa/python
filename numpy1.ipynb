{
 "cells": [
  {
   "cell_type": "code",
   "execution_count": 2,
   "metadata": {},
   "outputs": [],
   "source": [
    "import numpy as np"
   ]
  },
  {
   "cell_type": "code",
   "execution_count": 3,
   "metadata": {},
   "outputs": [
    {
     "name": "stdout",
     "output_type": "stream",
     "text": [
      "array1 type: <class 'numpy.ndarray'>\n",
      "array1 array 형태 (3,)\n",
      "array2 type: <class 'numpy.ndarray'>\n",
      "array2 array 형태 (2, 3)\n",
      "array3 type: <class 'numpy.ndarray'>\n",
      "array3 array 형태 (1, 3)\n"
     ]
    }
   ],
   "source": [
    "array1=np.array([1,2,3])\n",
    "print(\"array1 type:\",type(array1))\n",
    "print(\"array1 array 형태\",array1.shape)\n",
    "\n",
    "array2=np.array([[1,2,3],[2,3,4]])\n",
    "print(\"array2 type:\",type(array2))\n",
    "print(\"array2 array 형태\",array2.shape)\n",
    "\n",
    "array3=np.array([[1,2,3]])\n",
    "print(\"array3 type:\",type(array3))\n",
    "print(\"array3 array 형태\",array3.shape)"
   ]
  },
  {
   "cell_type": "code",
   "execution_count": 4,
   "metadata": {},
   "outputs": [
    {
     "name": "stdout",
     "output_type": "stream",
     "text": [
      "array1:1차원, array2: 2차원, array3: 2차원\n"
     ]
    }
   ],
   "source": [
    "print(\"array1:{0}차원, array2: {1}차원, array3: {2}차원\".format(array1.ndim,array2.ndim,array3.ndim))"
   ]
  },
  {
   "cell_type": "code",
   "execution_count": 5,
   "metadata": {},
   "outputs": [
    {
     "name": "stdout",
     "output_type": "stream",
     "text": [
      "<class 'list'>\n",
      "<class 'numpy.ndarray'>\n",
      "[1 2 3] int64\n"
     ]
    }
   ],
   "source": [
    "# list를 넘파이로 변경\n",
    "list1=[1,2,3]\n",
    "print(type(list1))\n",
    "array1=np.array(list1)\n",
    "print(type(array1))\n",
    "print(array1,array1.dtype)"
   ]
  },
  {
   "cell_type": "code",
   "execution_count": null,
   "metadata": {},
   "outputs": [],
   "source": [
    "# 다른 데이터 타입에 list를 넘파이로 변경\n",
    "list2=[1,2,'test']\n",
    "array2=np.array(list2)\n",
    "print(array2,array2.dtype)\n",
    "# ndarray 모두 같은 데이터 타입이어야 하는데 다를 경우 가장 데이터 타입이 큰 타입으로 변경된다.\n",
    "\n",
    "list3=[1,2,3.0]\n",
    "array3=np.array(list3)\n",
    "print(array3,array3.dtype)\n",
    "# 마찬가지로 3.0 float 값으로 나온다."
   ]
  }
 ],
 "metadata": {
  "kernelspec": {
   "display_name": "Python 3",
   "language": "python",
   "name": "python3"
  },
  "language_info": {
   "codemirror_mode": {
    "name": "ipython",
    "version": 3
   },
   "file_extension": ".py",
   "mimetype": "text/x-python",
   "name": "python",
   "nbconvert_exporter": "python",
   "pygments_lexer": "ipython3",
   "version": "3.8.5"
  }
 },
 "nbformat": 4,
 "nbformat_minor": 4
}
