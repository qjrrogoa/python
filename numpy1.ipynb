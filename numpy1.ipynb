{
 "cells": [
  {
   "cell_type": "code",
   "execution_count": 2,
   "metadata": {},
   "outputs": [],
   "source": [
    "import numpy as np"
   ]
  },
  {
   "cell_type": "code",
   "execution_count": 3,
   "metadata": {},
   "outputs": [
    {
     "name": "stdout",
     "output_type": "stream",
     "text": [
      "array1 type: <class 'numpy.ndarray'>\n",
      "array1 array 형태 (3,)\n",
      "array2 type: <class 'numpy.ndarray'>\n",
      "array2 array 형태 (2, 3)\n",
      "array3 type: <class 'numpy.ndarray'>\n",
      "array3 array 형태 (1, 3)\n"
     ]
    }
   ],
   "source": [
    "array1=np.array([1,2,3])\n",
    "print(\"array1 type:\",type(array1))\n",
    "print(\"array1 array 형태\",array1.shape)\n",
    "\n",
    "array2=np.array([[1,2,3],[2,3,4]])\n",
    "print(\"array2 type:\",type(array2))\n",
    "print(\"array2 array 형태\",array2.shape)\n",
    "\n",
    "array3=np.array([[1,2,3]])\n",
    "print(\"array3 type:\",type(array3))\n",
    "print(\"array3 array 형태\",array3.shape)"
   ]
  },
  {
   "cell_type": "code",
   "execution_count": 4,
   "metadata": {},
   "outputs": [
    {
     "name": "stdout",
     "output_type": "stream",
     "text": [
      "array1:1차원, array2: 2차원, array3: 2차원\n"
     ]
    }
   ],
   "source": [
    "print(\"array1:{0}차원, array2: {1}차원, array3: {2}차원\".format(array1.ndim,array2.ndim,array3.ndim))"
   ]
  },
  {
   "cell_type": "code",
   "execution_count": 5,
   "metadata": {},
   "outputs": [
    {
     "name": "stdout",
     "output_type": "stream",
     "text": [
      "<class 'list'>\n",
      "<class 'numpy.ndarray'>\n",
      "[1 2 3] int64\n"
     ]
    }
   ],
   "source": [
    "# list를 넘파이로 변경\n",
    "list1=[1,2,3]\n",
    "print(type(list1))\n",
    "array1=np.array(list1)\n",
    "print(type(array1))\n",
    "print(array1,array1.dtype)"
   ]
  },
  {
   "cell_type": "code",
   "execution_count": 6,
   "metadata": {},
   "outputs": [
    {
     "name": "stdout",
     "output_type": "stream",
     "text": [
      "['1' '2' 'test'] <U21\n",
      "[1. 2. 3.] float64\n"
     ]
    }
   ],
   "source": [
    "# 다른 데이터 타입에 list를 넘파이로 변경\n",
    "list2=[1,2,'test']\n",
    "array2=np.array(list2)\n",
    "print(array2,array2.dtype)\n",
    "# ndarray 모두 같은 데이터 타입이어야 하는데 다를 경우 가장 데이터 타입이 큰 타입으로 변경된다.\n",
    "\n",
    "list3=[1,2,3.0]\n",
    "array3=np.array(list3)\n",
    "print(array3,array3.dtype)\n",
    "# 마찬가지로 3.0 float 값으로 나온다."
   ]
  },
  {
   "cell_type": "code",
   "execution_count": 7,
   "metadata": {},
   "outputs": [
    {
     "name": "stdout",
     "output_type": "stream",
     "text": [
      "[1. 2. 3.] float64\n",
      "[1 2 3] int32\n",
      "[1 2 3] int32\n"
     ]
    }
   ],
   "source": [
    "# 데이터 타입 변경 (astype(\"\"))\n",
    "array_int=np.array([1,2,3])\n",
    "array_float=array_int.astype(\"float64\")\n",
    "print(array_float,array_float.dtype)\n",
    "\n",
    "array_int1=array_float.astype(\"int32\")\n",
    "print(array_int1,array_int1.dtype)\n",
    "\n",
    "array_float1=np.array([1.1,2.1,3.1])\n",
    "array_int2=array_float.astype(\"int32\")\n",
    "print(array_int2,array_int2.dtype)"
   ]
  },
  {
   "cell_type": "code",
   "execution_count": 8,
   "metadata": {},
   "outputs": [
    {
     "name": "stdout",
     "output_type": "stream",
     "text": [
      "[0 1 2 3 4 5 6 7 8 9]\n",
      "int64 (10,)\n"
     ]
    }
   ],
   "source": [
    "sequence_array=np.arange(10)\n",
    "print(sequence_array)\n",
    "print(sequence_array.dtype,sequence_array.shape)"
   ]
  },
  {
   "cell_type": "code",
   "execution_count": 9,
   "metadata": {},
   "outputs": [
    {
     "name": "stdout",
     "output_type": "stream",
     "text": [
      "[[0 0]\n",
      " [0 0]\n",
      " [0 0]]\n",
      "int32 (3, 2)\n",
      "[[1. 1.]\n",
      " [1. 1.]\n",
      " [1. 1.]]\n",
      "float64 (3, 2)\n"
     ]
    }
   ],
   "source": [
    "zero_array=np.zeros((3,2),dtype=\"int32\")\n",
    "# defalut 값은 float64\n",
    "print(zero_array)\n",
    "print(zero_array.dtype,zero_array.shape)\n",
    "\n",
    "one_array=np.ones((3,2))\n",
    "print(one_array)\n",
    "print(one_array.dtype,one_array.shape)"
   ]
  },
  {
   "cell_type": "code",
   "execution_count": null,
   "metadata": {},
   "outputs": [],
   "source": []
  }
 ],
 "metadata": {
  "kernelspec": {
   "display_name": "Python 3",
   "language": "python",
   "name": "python3"
  },
  "language_info": {
   "codemirror_mode": {
    "name": "ipython",
    "version": 3
   },
   "file_extension": ".py",
   "mimetype": "text/x-python",
   "name": "python",
   "nbconvert_exporter": "python",
   "pygments_lexer": "ipython3",
   "version": "3.8.5"
  }
 },
 "nbformat": 4,
 "nbformat_minor": 4
}
