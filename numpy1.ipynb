{
 "cells": [
  {
   "cell_type": "code",
   "execution_count": 1,
   "metadata": {},
   "outputs": [],
   "source": [
    "import numpy as np"
   ]
  },
  {
   "cell_type": "code",
   "execution_count": 2,
   "metadata": {},
   "outputs": [
    {
     "name": "stdout",
     "output_type": "stream",
     "text": [
      "array1 type: <class 'numpy.ndarray'>\n",
      "array1 array 형태 (3,)\n",
      "array2 type: <class 'numpy.ndarray'>\n",
      "array2 array 형태 (2, 3)\n",
      "array3 type: <class 'numpy.ndarray'>\n",
      "array3 array 형태 (1, 3)\n"
     ]
    }
   ],
   "source": [
    "array1=np.array([1,2,3])\n",
    "print(\"array1 type:\",type(array1))\n",
    "print(\"array1 array 형태\",array1.shape)\n",
    "\n",
    "array2=np.array([[1,2,3],[2,3,4]])\n",
    "print(\"array2 type:\",type(array2))\n",
    "print(\"array2 array 형태\",array2.shape)\n",
    "\n",
    "array3=np.array([[1,2,3]])\n",
    "print(\"array3 type:\",type(array3))\n",
    "print(\"array3 array 형태\",array3.shape)"
   ]
  },
  {
   "cell_type": "code",
   "execution_count": 3,
   "metadata": {},
   "outputs": [
    {
     "name": "stdout",
     "output_type": "stream",
     "text": [
      "array1:1차원, array2: 2차원, array3: 2차원\n"
     ]
    }
   ],
   "source": [
    "print(\"array1:{0}차원, array2: {1}차원, array3: {2}차원\".format(array1.ndim,array2.ndim,array3.ndim))"
   ]
  },
  {
   "cell_type": "code",
   "execution_count": 4,
   "metadata": {},
   "outputs": [
    {
     "name": "stdout",
     "output_type": "stream",
     "text": [
      "<class 'list'>\n",
      "<class 'numpy.ndarray'>\n",
      "[1 2 3] int64\n"
     ]
    }
   ],
   "source": [
    "# list를 넘파이로 변경\n",
    "list1=[1,2,3]\n",
    "print(type(list1))\n",
    "array1=np.array(list1)\n",
    "print(type(array1))\n",
    "print(array1,array1.dtype)"
   ]
  },
  {
   "cell_type": "code",
   "execution_count": 5,
   "metadata": {},
   "outputs": [
    {
     "name": "stdout",
     "output_type": "stream",
     "text": [
      "['1' '2' 'test'] <U21\n",
      "[1. 2. 3.] float64\n"
     ]
    }
   ],
   "source": [
    "# 다른 데이터 타입에 list를 넘파이로 변경\n",
    "list2=[1,2,'test']\n",
    "array2=np.array(list2)\n",
    "print(array2,array2.dtype)\n",
    "# ndarray 모두 같은 데이터 타입이어야 하는데 다를 경우 가장 데이터 타입이 큰 타입으로 변경된다.\n",
    "\n",
    "list3=[1,2,3.0]\n",
    "array3=np.array(list3)\n",
    "print(array3,array3.dtype)\n",
    "# 마찬가지로 3.0 float 값으로 나온다."
   ]
  },
  {
   "cell_type": "code",
   "execution_count": 6,
   "metadata": {},
   "outputs": [
    {
     "name": "stdout",
     "output_type": "stream",
     "text": [
      "[1. 2. 3.] float64\n",
      "[1 2 3] int32\n",
      "[1 2 3] int32\n"
     ]
    }
   ],
   "source": [
    "# 데이터 타입 변경 (astype(\"\"))\n",
    "array_int=np.array([1,2,3])\n",
    "array_float=array_int.astype(\"float64\")\n",
    "print(array_float,array_float.dtype)\n",
    "\n",
    "array_int1=array_float.astype(\"int32\")\n",
    "print(array_int1,array_int1.dtype)\n",
    "\n",
    "array_float1=np.array([1.1,2.1,3.1])\n",
    "array_int2=array_float.astype(\"int32\")\n",
    "print(array_int2,array_int2.dtype)"
   ]
  },
  {
   "cell_type": "code",
   "execution_count": 7,
   "metadata": {},
   "outputs": [
    {
     "name": "stdout",
     "output_type": "stream",
     "text": [
      "[0 1 2 3 4 5 6 7 8 9]\n",
      "int64 (10,)\n"
     ]
    }
   ],
   "source": [
    "sequence_array=np.arange(10)\n",
    "print(sequence_array)\n",
    "print(sequence_array.dtype,sequence_array.shape)"
   ]
  },
  {
   "cell_type": "code",
   "execution_count": 8,
   "metadata": {},
   "outputs": [
    {
     "name": "stdout",
     "output_type": "stream",
     "text": [
      "[[0 0]\n",
      " [0 0]\n",
      " [0 0]]\n",
      "int32 (3, 2)\n",
      "[[1. 1.]\n",
      " [1. 1.]\n",
      " [1. 1.]]\n",
      "float64 (3, 2)\n"
     ]
    }
   ],
   "source": [
    "zero_array=np.zeros((3,2),dtype=\"int32\")\n",
    "# defalut 값은 float64\n",
    "print(zero_array)\n",
    "print(zero_array.dtype,zero_array.shape)\n",
    "\n",
    "one_array=np.ones((3,2))\n",
    "print(one_array)\n",
    "print(one_array.dtype,one_array.shape)"
   ]
  },
  {
   "cell_type": "code",
   "execution_count": 9,
   "metadata": {},
   "outputs": [
    {
     "name": "stdout",
     "output_type": "stream",
     "text": [
      "array1:\n",
      " [0 1 2 3 4 5 6 7 8 9]\n",
      "array2:\n",
      " [[0 1 2 3 4]\n",
      " [5 6 7 8 9]]\n",
      "array3:\n",
      " [[0 1]\n",
      " [2 3]\n",
      " [4 5]\n",
      " [6 7]\n",
      " [8 9]]\n"
     ]
    }
   ],
   "source": [
    "# ndarray의 차원과 크기를 변경하는 reshape()\n",
    "array1=np.arange(10)\n",
    "print(\"array1:\\n\",array1)\n",
    "array2=array1.reshape(2,5)\n",
    "print(\"array2:\\n\",array2)\n",
    "array3=array1.reshape(5,2)\n",
    "print(\"array3:\\n\",array3)"
   ]
  },
  {
   "cell_type": "code",
   "execution_count": 10,
   "metadata": {},
   "outputs": [
    {
     "name": "stdout",
     "output_type": "stream",
     "text": [
      "array1:\n",
      " [0 1 2 3 4 5 6 7 8 9]\n",
      "array2:\n",
      " [[0 1 2 3 4]\n",
      " [5 6 7 8 9]]\n",
      "array3:\n",
      " [[0 1]\n",
      " [2 3]\n",
      " [4 5]\n",
      " [6 7]\n",
      " [8 9]]\n"
     ]
    }
   ],
   "source": [
    "# reshape 인자를 -1로 두면 효율적이다\n",
    "array1=np.arange(10)\n",
    "print(\"array1:\\n\",array1)\n",
    "array2=array1.reshape(-1,5)\n",
    "print(\"array2:\\n\",array2)\n",
    "array3=array1.reshape(5,-1)\n",
    "print(\"array3:\\n\",array3)"
   ]
  },
  {
   "cell_type": "code",
   "execution_count": 11,
   "metadata": {},
   "outputs": [
    {
     "name": "stdout",
     "output_type": "stream",
     "text": [
      "array3d:\n",
      " [[[0, 1], [2, 3]], [[4, 5], [6, 7]]]\n",
      "array5:\n",
      " [[0], [1], [2], [3], [4], [5], [6], [7]]\n",
      "array5 shape (8, 1)\n",
      "array6:\n",
      " [[0], [1], [2], [3], [4], [5], [6], [7]]\n",
      "array6 shape (8, 1)\n"
     ]
    }
   ],
   "source": [
    "# reshape(-1,1)은 3차원을 2차원으로, 1차원은 2차원으로 변경해준다.\n",
    "array1=np.arange(8)\n",
    "array3d=array1.reshape((2,2,2))\n",
    "print(\"array3d:\\n\",array3d.tolist()) #리스트로 변환\n",
    "\n",
    "#3차원 ndarray를 2차원 ndarray로 변환\n",
    "array5=array3d.reshape(-1,1)\n",
    "print(\"array5:\\n\",array5.tolist())\n",
    "print(\"array5 shape\",array5.shape)\n",
    "\n",
    "#1차원 ndarray를 2차원 ndarray로 변환\n",
    "array6=array1.reshape(-1,1)\n",
    "print(\"array6:\\n\",array6.tolist())\n",
    "print(\"array6 shape\",array6.shape)"
   ]
  },
  {
   "cell_type": "code",
   "execution_count": 12,
   "metadata": {},
   "outputs": [
    {
     "name": "stdout",
     "output_type": "stream",
     "text": [
      "array1: [1 2 3 4 5 6 7 8 9]\n",
      "value = 3\n",
      "<class 'numpy.int64'>\n",
      "맨 뒤의 값: 9 맨 뒤에서 두번째 값: 8\n",
      "array1: [9 2 3 4 5 6 7 8 0]\n"
     ]
    }
   ],
   "source": [
    "# 값 추출하기\n",
    "array1=np.arange(start=1,stop=10)\n",
    "print(\"array1:\",array1)\n",
    "value=array1[2]\n",
    "print(\"value =\",value)\n",
    "print(type(value))\n",
    "print(\"맨 뒤의 값:\",array1[-1], \"맨 뒤에서 두번째 값:\",array1[-2])\n",
    "\n",
    "# 수정하기\n",
    "array1[0]=9\n",
    "array1[8]=0\n",
    "print(\"array1:\",array1)"
   ]
  },
  {
   "cell_type": "code",
   "execution_count": 13,
   "metadata": {},
   "outputs": [
    {
     "name": "stdout",
     "output_type": "stream",
     "text": [
      "[[1 2 3]\n",
      " [4 5 6]\n",
      " [7 8 9]]\n",
      "(row=0, col=0) index 가리키는 값 1\n",
      "(row=0, col=1) index 가리키는 값 2\n",
      "(row=1, col=0) index 가리키는 값 4\n",
      "(row=2, col=2) index 가리키는 값 9\n"
     ]
    }
   ],
   "source": [
    "# row, column 값 추출\n",
    "array1d=np.arange(start=1, stop=10)\n",
    "array2d=array1d.reshape(3,3)\n",
    "print(array2d)\n",
    "print(\"(row=0, col=0) index 가리키는 값\",array2d[0,0])\n",
    "print(\"(row=0, col=1) index 가리키는 값\",array2d[0,1])\n",
    "print(\"(row=1, col=0) index 가리키는 값\",array2d[1,0])\n",
    "print(\"(row=2, col=2) index 가리키는 값\",array2d[2,2])"
   ]
  },
  {
   "cell_type": "code",
   "execution_count": 16,
   "metadata": {},
   "outputs": [
    {
     "name": "stdout",
     "output_type": "stream",
     "text": [
      "[1 2 3]\n",
      "[4 5 6 7 8 9]\n",
      "[1 2 3 4 5 6 7 8 9]\n"
     ]
    }
   ],
   "source": [
    "# 슬라이싱\n",
    "array1=np.arange(start=1,stop=10)\n",
    "array4=array1[:3]\n",
    "print(array4)\n",
    "\n",
    "array5=array1[3:]\n",
    "print(array5)\n",
    "\n",
    "array6=array1[:]\n",
    "print(array6)"
   ]
  },
  {
   "cell_type": "code",
   "execution_count": 15,
   "metadata": {},
   "outputs": [
    {
     "name": "stdout",
     "output_type": "stream",
     "text": [
      "array2d:\n",
      " [[1 2 3]\n",
      " [4 5 6]\n",
      " [7 8 9]]\n",
      "array2d[0:2,0:2]\n",
      " [[1 2]\n",
      " [4 5]]\n",
      "array2d[1:3,0:3]\n",
      " [[4 5 6]\n",
      " [7 8 9]]\n",
      "array2d[1:3,:]\n",
      " [[4 5 6]\n",
      " [7 8 9]]\n",
      "array2d[:,:]\n",
      " [[1 2 3]\n",
      " [4 5 6]\n",
      " [7 8 9]]\n",
      "array2d[:2,1:]\n",
      " [[2 3]\n",
      " [5 6]]\n",
      "array2d[:2,0]\n",
      " [1 4]\n"
     ]
    }
   ],
   "source": [
    "array1d=np.arange(start=1,stop=10)\n",
    "array2d=array1d.reshape(3,3)\n",
    "print(\"array2d:\\n\",array2d)\n",
    "\n",
    "print(\"array2d[0:2,0:2]\\n\",array2d[0:2,0:2])\n",
    "print(\"array2d[1:3,0:3]\\n\",array2d[1:3,0:3])\n",
    "print(\"array2d[1:3,:]\\n\",array2d[1:3,:])\n",
    "print(\"array2d[:,:]\\n\",array2d[:,:])\n",
    "print(\"array2d[:2,1:]\\n\",array2d[:2,1:])\n",
    "print(\"array2d[:2,0]\\n\",array2d[:2,0])"
   ]
  },
  {
   "cell_type": "code",
   "execution_count": 14,
   "metadata": {},
   "outputs": [
    {
     "name": "stdout",
     "output_type": "stream",
     "text": [
      "array2d[0,1],2] =  [3, 6]\n",
      "array2d[0,1],0:2] = [[1, 2], [4, 5]]\n",
      "array2d[0,1]] = [[1, 2, 3], [4, 5, 6]]\n"
     ]
    }
   ],
   "source": [
    "#팬시 인덱싱\n",
    "array1d=np.arange(start=1,stop=10)\n",
    "array2d=array1d.reshape(3,3)\n",
    "\n",
    "array3=array2d[[0,1],2]\n",
    "print(\"array2d[0,1],2] = \",array3.tolist())\n",
    "\n",
    "array4=array2d[[0,1],0:2]\n",
    "print(\"array2d[0,1],0:2] =\",array4.tolist())\n",
    "\n",
    "array5=array2d[[0,1]]\n",
    "print(\"array2d[0,1]] =\",array5.tolist())"
   ]
  },
  {
   "cell_type": "code",
   "execution_count": 17,
   "metadata": {},
   "outputs": [
    {
     "name": "stdout",
     "output_type": "stream",
     "text": [
      "array1d>5 불린 인덱싱 결과 값 [6 7 8 9]\n",
      "일반 인덱싱으로 필터링 결과 [6 7 8 9]\n"
     ]
    }
   ],
   "source": [
    "# 불린 인덱싱\n",
    "array1d=np.arange(start=1,stop=10)\n",
    "array3=array1d[array1d>5]\n",
    "print(\"array1d>5 불린 인덱싱 결과 값\",array3)\n",
    "\n",
    "indexes=np.array([5,6,7,8]) # 오우 인덱싱은 자리값이다,, 주의 바란다!\n",
    "array4=array1d[indexes]\n",
    "print(\"일반 인덱싱으로 필터링 결과\",array4)"
   ]
  },
  {
   "cell_type": "code",
   "execution_count": 18,
   "metadata": {},
   "outputs": [
    {
     "name": "stdout",
     "output_type": "stream",
     "text": [
      "원본 행렬: [3 1 9 5]\n",
      "np.sort() 호출 후 반환된 정렬 행렬: [1 3 5 9]\n",
      "np.sort() 호출 후 원본 행렬: [3 1 9 5]\n",
      "org_array.sort() 호출 후 반환된 행렬: None\n",
      "org_array.sort() 호출 후 원본 행렬: [1 3 5 9]\n",
      "내림차순으로 정렬: [9 5 3 1]\n"
     ]
    }
   ],
   "source": [
    "# 정렬\n",
    "org_array=np.array([3,1,9,5])\n",
    "print(\"원본 행렬:\",org_array)\n",
    "\n",
    "# np.sort()로 정렬 원본을 해치지 않음\n",
    "sort_array1=np.sort(org_array)\n",
    "print(\"np.sort() 호출 후 반환된 정렬 행렬:\",sort_array1)\n",
    "print(\"np.sort() 호출 후 원본 행렬:\",org_array)\n",
    "\n",
    "# ndarray.sort()로 정렬 원본 자체를 바꾸어버림\n",
    "sort_array2=org_array.sort()\n",
    "print(\"org_array.sort() 호출 후 반환된 행렬:\",sort_array2)\n",
    "print(\"org_array.sort() 호출 후 원본 행렬:\",org_array)\n",
    "\n",
    "# 내림 차순\n",
    "sort_array1_desc=np.sort(org_array)[::-1] \n",
    "print(\"내림차순으로 정렬:\",sort_array1_desc)"
   ]
  },
  {
   "cell_type": "code",
   "execution_count": 19,
   "metadata": {},
   "outputs": [
    {
     "name": "stdout",
     "output_type": "stream",
     "text": [
      "[1 0 2 3]\n",
      "<class 'numpy.ndarray'>\n",
      "[3 2 0 1]\n",
      "성적 오름차순 정렬 시 socre_array의 인덱스: [0 2 4 1 3]\n",
      "성적 오름차순으로 name_array의 이름 출력: ['John' 'Sarah' 'Samuel' 'Mike' 'Kate']\n"
     ]
    }
   ],
   "source": [
    "# 정렬된 행렬의 인덱스를 반환하기\n",
    "org_array=np.array([3,1,5,9])\n",
    "sort_indices=np.argsort(org_array)\n",
    "print(sort_indices)\n",
    "print(type(sort_indices))\n",
    "sort_indices_desc=np.argsort(org_array)[::-1]\n",
    "print(sort_indices_desc)\n",
    "\n",
    "# 넘파이는 키 즉 같은 데이터 타입만 써야하기 때문에 자주 쓰인다.\n",
    "name_array=np.array(['John','Mike','Sarah','Kate','Samuel'])\n",
    "score_array=np.array([78,95,84,98,88]) # 내가 반대로 생각했다,\n",
    "sort_indices_asc=np.argsort(score_array)\n",
    "print(\"성적 오름차순 정렬 시 socre_array의 인덱스:\",sort_indices_asc)\n",
    "print(\"성적 오름차순으로 name_array의 이름 출력:\",name_array[sort_indices_asc])"
   ]
  },
  {
   "cell_type": "code",
   "execution_count": 20,
   "metadata": {},
   "outputs": [
    {
     "name": "stdout",
     "output_type": "stream",
     "text": [
      "행렬 내적 결과:\n",
      " [[ 58  64]\n",
      " [139 154]]\n",
      "A의 전치 행렬\n",
      " [[1 3]\n",
      " [2 4]]\n"
     ]
    }
   ],
   "source": [
    "# 행렬 내적 np.dot(A,B)\n",
    "A=np.array([[1,2,3],[4,5,6]])\n",
    "B=np.array([[7,8],[9,10],[11,12]])\n",
    "dot_product=np.dot(A,B)\n",
    "print(\"행렬 내적 결과:\\n\",dot_product)\n",
    "\n",
    "# 전치 행렬 np.transpose(A)\n",
    "A=np.array([[1,2],[3,4]])\n",
    "transpose_mat=np.transpose(A)\n",
    "print(\"A의 전치 행렬\\n\",transpose_mat)"
   ]
  },
  {
   "cell_type": "code",
   "execution_count": null,
   "metadata": {},
   "outputs": [],
   "source": []
  }
 ],
 "metadata": {
  "kernelspec": {
   "display_name": "Python 3",
   "language": "python",
   "name": "python3"
  },
  "language_info": {
   "codemirror_mode": {
    "name": "ipython",
    "version": 3
   },
   "file_extension": ".py",
   "mimetype": "text/x-python",
   "name": "python",
   "nbconvert_exporter": "python",
   "pygments_lexer": "ipython3",
   "version": "3.8.5"
  }
 },
 "nbformat": 4,
 "nbformat_minor": 4
}
